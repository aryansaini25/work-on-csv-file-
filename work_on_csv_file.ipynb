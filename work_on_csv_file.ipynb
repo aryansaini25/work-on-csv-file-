{
 "cells": [
  {
   "cell_type": "code",
   "execution_count": null,
   "id": "5c67a96c",
   "metadata": {},
   "outputs": [],
   "source": [
    "# Quetion1. Read the attached “PolSci_Data” csv file, on google colab.\n",
    "Answer the following questions given below: \n",
    "a. What is the shape of the data?\n",
    "b. List the columns in the data.\n",
    "c. Use python code to summarize the data by showing the details such as Mean, Median etc. of \n",
    "the columns.\n",
    "d. List the quantitative and qualitative variables in the data set.\n",
    "e. Provide the details regarding the data type of the variables."
   ]
  },
  {
   "cell_type": "code",
   "execution_count": 1,
   "id": "3438f46d",
   "metadata": {},
   "outputs": [
    {
     "name": "stdout",
     "output_type": "stream",
     "text": [
      "Number of rows contain csv file: 800\n",
      "Number of columns contain csv file: 11\n"
     ]
    }
   ],
   "source": [
    "#a\n",
    "# import the library\n",
    "import pandas as pd\n",
    "\n",
    "# Read the CSV file\n",
    "df = pd.read_csv(r'C:\\Users\\Chaman\\Downloads\\PolSci_Data.csv')\n",
    "\n",
    "# Describe the shape of the data\n",
    "print(\"Number of rows contain csv file:\", df.shape[0])\n",
    "print(\"Number of columns contain csv file:\", df.shape[1])\n"
   ]
  },
  {
   "cell_type": "code",
   "execution_count": 2,
   "id": "26da72c0",
   "metadata": {},
   "outputs": [
    {
     "name": "stdout",
     "output_type": "stream",
     "text": [
      "Columns contain the polSci data\n",
      "AppicantID\n",
      "Fiscal Year\n",
      "High School GPA\n",
      "Age at Application\n",
      "Program\n",
      "Institution Decision\n",
      "Applicants\n",
      "Accepted\n",
      "Enrolled\n",
      "Residence\n",
      "Gender\n"
     ]
    }
   ],
   "source": [
    "#b\n",
    "import pandas as pd\n",
    "\n",
    "# Read the CSV file\n",
    "df = pd.read_csv(r'C:\\Users\\Chaman\\Downloads\\PolSci_Data.csv')\n",
    "\n",
    "# List the columns\n",
    "print(\"Columns contain the polSci data\")\n",
    "for column in df.columns:\n",
    "    print(column)"
   ]
  },
  {
   "cell_type": "code",
   "execution_count": 4,
   "id": "ab2138eb",
   "metadata": {},
   "outputs": [
    {
     "name": "stdout",
     "output_type": "stream",
     "text": [
      "Quantitative variables:\n",
      "['AppicantID', 'High School GPA', 'Age at Application', 'Applicants', 'Accepted', 'Enrolled']\n",
      "\n",
      "Qualitative variables:\n",
      "['Fiscal Year', 'Program', 'Institution Decision', 'Residence', 'Gender']\n"
     ]
    }
   ],
   "source": [
    "#d\n",
    "import pandas as pd\n",
    "\n",
    "# Read the CSV file\n",
    "df = pd.read_csv(r'C:\\Users\\Chaman\\Downloads\\PolSci_Data.csv')\n",
    "\n",
    "# Initialize lists to store quantitative and qualitative name that are used in csv\n",
    "quan_variables = []\n",
    "qual_variables = []\n",
    "\n",
    "# Iterate through each column and determine its data type\n",
    "for column in df.columns:\n",
    "    if df[column].dtype in ['int64', 'float64']:  # Check if the data type is numeric or not\n",
    "        quan_variables.append(column)\n",
    "    else:\n",
    "        qual_variables.append(column)\n",
    "\n",
    "# Print the lists of quantitative and qualitative variables\n",
    "print(\"Quantitative variables:\")\n",
    "print(quan_variables)\n",
    "print(\"\\nQualitative variables:\")\n",
    "print(qual_variables)"
   ]
  },
  {
   "cell_type": "code",
   "execution_count": 5,
   "id": "8b020c45",
   "metadata": {},
   "outputs": [
    {
     "name": "stdout",
     "output_type": "stream",
     "text": [
      "Summary Statistics:\n",
      "         AppicantID  High School GPA  Age at Application  Applicants  \\\n",
      "count  7.990000e+02       799.000000          799.000000       799.0   \n",
      "mean   5.344640e+06         2.476846           19.399249         1.0   \n",
      "std    2.574817e+06         0.822096            1.398011         0.0   \n",
      "min    1.012012e+06         1.000000           17.000000         1.0   \n",
      "25%    3.135294e+06         2.000000           18.000000         1.0   \n",
      "50%    5.287518e+06         3.000000           19.000000         1.0   \n",
      "75%    7.487986e+06         3.000000           21.000000         1.0   \n",
      "max    9.988282e+06         4.000000           22.000000         1.0   \n",
      "\n",
      "       Accepted  Enrolled  \n",
      "count     614.0     425.0  \n",
      "mean        1.0       1.0  \n",
      "std         0.0       0.0  \n",
      "min         1.0       1.0  \n",
      "25%         1.0       1.0  \n",
      "50%         1.0       1.0  \n",
      "75%         1.0       1.0  \n",
      "max         1.0       1.0  \n"
     ]
    }
   ],
   "source": [
    "#c\n",
    "import pandas as pd\n",
    "\n",
    "# Read the CSV file\n",
    "df = pd.read_csv(r'C:\\Users\\Chaman\\Downloads\\PolSci_Data.csv')\n",
    "\n",
    "# Calculate summary statistics for each column\n",
    "summary = df.describe()\n",
    "\n",
    "# Print the summary statistics\n",
    "print(\"Summary Statistics:\")\n",
    "print(summary)"
   ]
  },
  {
   "cell_type": "code",
   "execution_count": 6,
   "id": "a942b0e4",
   "metadata": {},
   "outputs": [
    {
     "name": "stdout",
     "output_type": "stream",
     "text": [
      "Data types of variables:\n",
      "AppicantID              float64\n",
      "Fiscal Year              object\n",
      "High School GPA         float64\n",
      "Age at Application      float64\n",
      "Program                  object\n",
      "Institution Decision     object\n",
      "Applicants              float64\n",
      "Accepted                float64\n",
      "Enrolled                float64\n",
      "Residence                object\n",
      "Gender                   object\n",
      "dtype: object\n"
     ]
    }
   ],
   "source": [
    "#c\n",
    "import pandas as pd\n",
    "\n",
    "# Read the CSV file\n",
    "df = pd.read_csv(r'C:\\Users\\Chaman\\Downloads\\PolSci_Data.csv')\n",
    "\n",
    "# Get details about the data type of each variable\n",
    "data_types = df.dtypes\n",
    "\n",
    "# Print the details\n",
    "print(\"Data types of variables:\")\n",
    "print(data_types)"
   ]
  },
  {
   "cell_type": "code",
   "execution_count": null,
   "id": "1e6d81eb",
   "metadata": {},
   "outputs": [],
   "source": [
    "# Question2. Take the column “Age at application” from the above data set, convert it into python list. \n",
    "Divide each element in the list by 20 using the iteration through “for loop” and save the remainder in \n",
    "new list named as “rem”."
   ]
  },
  {
   "cell_type": "code",
   "execution_count": 7,
   "id": "ab471892",
   "metadata": {},
   "outputs": [
    {
     "name": "stdout",
     "output_type": "stream",
     "text": [
      "Remainders: [1.0, 2.0, 1.0, 18.0, 1.0, 19.0, 19.0, 1.0, 19.0, 0.0, 19.0, 19.0, 18.0, 19.0, 18.0, 1.0, 1.0, 0.0, 19.0, 0.0, 19.0, 1.0, 18.0, 0.0, 2.0, 17.0, 1.0, 0.0, 19.0, 1.0, 19.0, 18.0, 18.0, 19.0, 0.0, 18.0, 2.0, 17.0, 0.0, 19.0, 19.0, 0.0, 0.0, 19.0, 1.0, 19.0, 17.0, 0.0, 2.0, 2.0, 19.0, 18.0, 0.0, 0.0, 19.0, 19.0, 1.0, 18.0, 1.0, 19.0, 0.0, 0.0, 19.0, 18.0, 19.0, 1.0, 18.0, 2.0, 18.0, 1.0, 0.0, 18.0, 0.0, 1.0, 1.0, 1.0, 1.0, 2.0, 18.0, 0.0, 0.0, 1.0, 19.0, 19.0, 0.0, 19.0, 17.0, 19.0, 19.0, 0.0, 1.0, 2.0, 0.0, 18.0, 2.0, 0.0, 18.0, 0.0, 19.0, 0.0, 18.0, 18.0, 0.0, 1.0, 17.0, 18.0, 18.0, 0.0, 19.0, 17.0, 0.0, 19.0, 18.0, 1.0, 19.0, 19.0, 1.0, 0.0, 18.0, 18.0, 19.0, 0.0, 0.0, 1.0, 1.0, 18.0, 0.0, 1.0, 19.0, 19.0, 18.0, 18.0, 2.0, 1.0, 18.0, 18.0, 1.0, 19.0, 18.0, 0.0, 18.0, 2.0, 1.0, 1.0, 19.0, 17.0, 0.0, 18.0, 2.0, 0.0, 1.0, 2.0, 19.0, 1.0, 19.0, 19.0, 18.0, 2.0, 1.0, 18.0, 0.0, 0.0, 0.0, 1.0, 0.0, 17.0, 17.0, 19.0, 18.0, 18.0, 0.0, 18.0, 18.0, 18.0, 1.0, 18.0, 17.0, 1.0, 18.0, 1.0, 2.0, 19.0, 0.0, 1.0, 19.0, 2.0, 1.0, 17.0, 19.0, 17.0, 1.0, 19.0, 1.0, 2.0, 1.0, 2.0, 0.0, 19.0, 0.0, 18.0, 1.0, 18.0, 2.0, 0.0, 2.0, 0.0, 0.0, 18.0, 19.0, 17.0, 0.0, 1.0, 0.0, 17.0, 1.0, 17.0, 1.0, 1.0, 1.0, 0.0, 0.0, 0.0, 17.0, 0.0, 18.0, 0.0, 17.0, 0.0, 0.0, 17.0, 1.0, 1.0, 0.0, 19.0, 19.0, 0.0, 18.0, 18.0, 19.0, 2.0, 18.0, 2.0, 18.0, 17.0, 0.0, 18.0, 18.0, 0.0, 18.0, 0.0, 2.0, 19.0, 0.0, 0.0, 0.0, 19.0, 1.0, 17.0, 1.0, 0.0, 0.0, 1.0, 19.0, 19.0, 0.0, 19.0, 1.0, 19.0, 1.0, 1.0, 1.0, 0.0, 17.0, 0.0, 2.0, 1.0, 0.0, 18.0, 1.0, 1.0, 19.0, 18.0, 19.0, 1.0, 19.0, 19.0, 18.0, 18.0, 1.0, 18.0, 0.0, 19.0, 18.0, 19.0, 17.0, 18.0, 0.0, 19.0, 18.0, 18.0, 17.0, 19.0, 1.0, 1.0, 1.0, 0.0, 2.0, 19.0, 1.0, 19.0, 1.0, 1.0, 2.0, 17.0, 1.0, 17.0, 0.0, 1.0, 18.0, 18.0, 18.0, 0.0, 1.0, 1.0, 0.0, 19.0, 1.0, 1.0, 19.0, 0.0, 18.0, 0.0, 19.0, 2.0, 18.0, 0.0, 19.0, 0.0, 18.0, 0.0, 19.0, 19.0, 19.0, 1.0, 18.0, 19.0, 2.0, 1.0, 1.0, 0.0, 0.0, 0.0, 0.0, 19.0, 1.0, 19.0, 18.0, 1.0, 17.0, 1.0, 0.0, 0.0, 19.0, 18.0, 19.0, 1.0, 18.0, 1.0, 18.0, 19.0, 1.0, 1.0, 1.0, 0.0, 1.0, 19.0, 19.0, 2.0, 2.0, 1.0, 1.0, 1.0, 18.0, 18.0, 1.0, 2.0, 0.0, 18.0, 0.0, 19.0, 0.0, 1.0, 1.0, 0.0, 1.0, 18.0, 2.0, 17.0, 0.0, 0.0, 19.0, 19.0, 18.0, 0.0, 0.0, 18.0, 19.0, 18.0, 0.0, 18.0, 19.0, 1.0, 1.0, 19.0, 18.0, 0.0, 0.0, 19.0, 1.0, 0.0, 19.0, 19.0, 0.0, 0.0, 18.0, 19.0, 19.0, 19.0, 1.0, 17.0, 19.0, 1.0, 0.0, 0.0, 18.0, 1.0, 0.0, 17.0, 0.0, 0.0, 19.0, 19.0, 0.0, 19.0, 19.0, 18.0, 0.0, 19.0, 18.0, 0.0, 1.0, 17.0, 0.0, 0.0, 18.0, 19.0, 0.0, 1.0, 18.0, 0.0, 19.0, 19.0, 2.0, 1.0, 2.0, 19.0, 18.0, 19.0, 18.0, 18.0, 0.0, 19.0, 19.0, 19.0, 0.0, 1.0, 1.0, 18.0, 0.0, 1.0, 19.0, 0.0, 1.0, 2.0, 0.0, 19.0, 18.0, 19.0, 2.0, 18.0, 1.0, 0.0, 18.0, 1.0, 0.0, 2.0, 0.0, 1.0, 19.0, 0.0, 18.0, 19.0, 17.0, 0.0, 18.0, 0.0, 18.0, 0.0, 18.0, 19.0, 1.0, 19.0, 17.0, 0.0, 0.0, 18.0, 1.0, 0.0, 0.0, 1.0, 0.0, 18.0, 19.0, 19.0, 2.0, 17.0, 17.0, 0.0, 2.0, 19.0, 2.0, 0.0, 18.0, 19.0, 19.0, 17.0, 0.0, 18.0, 1.0, 1.0, 0.0, 19.0, 1.0, 19.0, 2.0, 19.0, 19.0, 1.0, 19.0, 18.0, 0.0, 18.0, 19.0, 19.0, 18.0, 1.0, 18.0, 2.0, 18.0, 18.0, 0.0, 18.0, 0.0, 18.0, 19.0, 19.0, 0.0, 19.0, 19.0, 1.0, 17.0, 0.0, 0.0, 17.0, 17.0, 0.0, 2.0, 18.0, 2.0, 19.0, 19.0, 0.0, 18.0, 1.0, 0.0, 19.0, 2.0, 19.0, 18.0, 17.0, 19.0, 0.0, 0.0, 18.0, 17.0, 18.0, 1.0, 19.0, 0.0, 19.0, 19.0, 19.0, 18.0, 17.0, 18.0, 1.0, 1.0, 18.0, 18.0, 0.0, 19.0, 18.0, 18.0, 1.0, 19.0, 18.0, 18.0, 18.0, 17.0, 0.0, 19.0, 18.0, 2.0, 0.0, 1.0, 0.0, 19.0, 0.0, 17.0, 18.0, 2.0, 19.0, 0.0, 19.0, 17.0, 2.0, 18.0, 2.0, 19.0, 17.0, 18.0, 1.0, 18.0, 19.0, 1.0, 1.0, 2.0, 19.0, 19.0, 1.0, 19.0, 19.0, 1.0, 2.0, 0.0, 1.0, 19.0, 1.0, 18.0, 0.0, 19.0, 19.0, 19.0, 18.0, 1.0, 1.0, 1.0, 1.0, 17.0, 17.0, 19.0, 0.0, 19.0, 1.0, 18.0, 19.0, 0.0, 18.0, 18.0, 0.0, 17.0, 1.0, 19.0, 1.0, 1.0, 18.0, 18.0, 18.0, 1.0, 18.0, 17.0, 18.0, 17.0, 17.0, 17.0, 19.0, 18.0, 18.0, 18.0, 19.0, 18.0, 17.0, 19.0, 19.0, 18.0, 18.0, 1.0, 17.0, 18.0, 0.0, 0.0, 0.0, 19.0, 17.0, 0.0, 17.0, 19.0, 18.0, 18.0, 0.0, 17.0, 18.0, 17.0, 18.0, 17.0, 19.0, 19.0, 18.0, 18.0, 17.0, 19.0, 19.0, 1.0, 19.0, 19.0, 17.0, 0.0, 17.0, 19.0, 18.0, 19.0, 1.0, 0.0, 0.0, 0.0, 1.0, 19.0, 19.0, 0.0, 19.0, 19.0, 17.0, 18.0, 19.0, 1.0, 18.0, 18.0, 17.0, 1.0, 19.0, 18.0, 17.0, 17.0, 19.0, 19.0, 0.0, 19.0, 17.0, 18.0, 19.0, 0.0, 17.0, 19.0, 18.0, 0.0, 0.0, 19.0, 1.0, 18.0, 18.0, 1.0, 19.0, 17.0, 18.0, 17.0, 18.0, 18.0, 0.0, 18.0, 17.0, 1.0, 19.0, 18.0, 18.0, 1.0, 0.0, 0.0, 1.0, 18.0, nan]\n"
     ]
    }
   ],
   "source": [
    "#question-2\n",
    "import pandas as pd\n",
    "\n",
    "# Read the CSV file\n",
    "df = pd.read_csv(r'C:\\Users\\Chaman\\Downloads\\PolSci_Data.csv')\n",
    "\n",
    "# Convert the column \"Age at application\" to a Python list\n",
    "age_at_application_list = df[\"Age at Application\"].tolist()\n",
    "\n",
    "# Initialize an empty list to store the remainders\n",
    "rem = []\n",
    "\n",
    "# Iterate through each element in the list and divide by 20, saving the remainder\n",
    "for age in age_at_application_list:\n",
    "    remainder = age % 20\n",
    "    rem.append(remainder)\n",
    "\n",
    "# Print the list of remainders\n",
    "print(\"Remainders:\", rem)"
   ]
  },
  {
   "cell_type": "code",
   "execution_count": null,
   "id": "fa3ceea8",
   "metadata": {},
   "outputs": [],
   "source": [
    "Question 3. Add this new list named as “rem” back to the given data frame."
   ]
  },
  {
   "cell_type": "code",
   "execution_count": 8,
   "id": "72fc0abf",
   "metadata": {},
   "outputs": [
    {
     "name": "stdout",
     "output_type": "stream",
     "text": [
      "     AppicantID Fiscal Year  High School GPA  Age at Application  \\\n",
      "0     4737764.0     2019/20              2.0                21.0   \n",
      "1     3017236.0     2019/20              1.0                22.0   \n",
      "2     9269281.0     2019/20              1.0                21.0   \n",
      "3     5273801.0     2019/20              3.0                18.0   \n",
      "4     1418259.0     2019/20              3.0                21.0   \n",
      "..          ...         ...              ...                 ...   \n",
      "795   5577326.0     2018/19              3.0                20.0   \n",
      "796   6638759.0     2018/19              4.0                20.0   \n",
      "797   1840833.0     2018/19              4.0                21.0   \n",
      "798   3948396.0     2018/19              3.0                18.0   \n",
      "799         NaN         NaN              NaN                 NaN   \n",
      "\n",
      "                           Program Institution Decision  Applicants  Accepted  \\\n",
      "0    Bachelor of Political Science             Declined         1.0       NaN   \n",
      "1    Bachelor of Political Science             Accepted         1.0       1.0   \n",
      "2    Bachelor of Political Science             Accepted         1.0       1.0   \n",
      "3    Bachelor of Political Science             Accepted         1.0       1.0   \n",
      "4    Bachelor of Political Science             Accepted         1.0       1.0   \n",
      "..                             ...                  ...         ...       ...   \n",
      "795  Bachelor of Political Science             Accepted         1.0       1.0   \n",
      "796  Bachelor of Political Science             Accepted         1.0       1.0   \n",
      "797  Bachelor of Political Science             Accepted         1.0       1.0   \n",
      "798  Bachelor of Political Science             Accepted         1.0       1.0   \n",
      "799                            NaN                  NaN         NaN       NaN   \n",
      "\n",
      "     Enrolled      Residence Gender   rem  \n",
      "0         NaN  International      M   1.0  \n",
      "1         1.0       Domestic      M   2.0  \n",
      "2         1.0       Domestic      M   1.0  \n",
      "3         NaN       Domestic      F  18.0  \n",
      "4         1.0       Domestic      F   1.0  \n",
      "..        ...            ...    ...   ...  \n",
      "795       1.0  International      F   0.0  \n",
      "796       1.0  International      F   0.0  \n",
      "797       1.0  International      F   1.0  \n",
      "798       1.0  International      F  18.0  \n",
      "799       NaN       Domestic      F   NaN  \n",
      "\n",
      "[800 rows x 12 columns]\n"
     ]
    }
   ],
   "source": [
    "#question 3\n",
    "import pandas as pd\n",
    "\n",
    "# Read the CSV file\n",
    "df = pd.read_csv(r'C:\\Users\\Chaman\\Downloads\\PolSci_Data.csv')\n",
    "\n",
    "# we use Python list\n",
    "age_at_application_list = df[\"Age at Application\"].tolist()\n",
    "\n",
    "# Initialize an empty list for rem\n",
    "rem = []\n",
    "\n",
    "# Iterate through each element in the list and divide by 20\n",
    "for age in age_at_application_list:\n",
    "    remainder = age % 20\n",
    "    rem.append(remainder)\n",
    "\n",
    "# Add the new list as a new column named \"rem\" to the DataFrame\n",
    "df['rem'] = rem\n",
    "\n",
    "# Print the updated DataFrame\n",
    "print(df)\n"
   ]
  },
  {
   "cell_type": "code",
   "execution_count": null,
   "id": "1e65bd70",
   "metadata": {},
   "outputs": [],
   "source": [
    "\n"
   ]
  }
 ],
 "metadata": {
  "kernelspec": {
   "display_name": "Python 3 (ipykernel)",
   "language": "python",
   "name": "python3"
  },
  "language_info": {
   "codemirror_mode": {
    "name": "ipython",
    "version": 3
   },
   "file_extension": ".py",
   "mimetype": "text/x-python",
   "name": "python",
   "nbconvert_exporter": "python",
   "pygments_lexer": "ipython3",
   "version": "3.11.3"
  }
 },
 "nbformat": 4,
 "nbformat_minor": 5
}
